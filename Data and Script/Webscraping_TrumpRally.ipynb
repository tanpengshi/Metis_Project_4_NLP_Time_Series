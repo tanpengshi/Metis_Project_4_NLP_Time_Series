{
 "cells": [
  {
   "cell_type": "code",
   "execution_count": 2,
   "metadata": {},
   "outputs": [],
   "source": [
    "from bs4 import BeautifulSoup\n",
    "import requests\n",
    "from selenium import webdriver\n",
    "import time, os\n",
    "\n",
    "chromedriver = \"C:/Users/tanpe/Downloads/chromedriver_win32/chromedriver\" # path to the chromedriver executable\n",
    "os.environ[\"webdriver.chrome.driver\"] = chromedriver\n",
    "\n",
    "import pandas as pd\n",
    "import numpy as np\n",
    "pd.set_option('display.max_rows', 500)"
   ]
  },
  {
   "cell_type": "code",
   "execution_count": 3,
   "metadata": {},
   "outputs": [],
   "source": [
    "driver = webdriver.Chrome(chromedriver)\n",
    "driver.get('https://factba.se/transcripts/speeches')"
   ]
  },
  {
   "cell_type": "code",
   "execution_count": 4,
   "metadata": {},
   "outputs": [],
   "source": [
    "for i in range(15):\n",
    "    driver.execute_script(\"window.scrollTo(0, document.documentElement.scrollHeight);\" )\n",
    "    time.sleep(2)\n",
    "\n",
    "soup = BeautifulSoup(driver.page_source, 'html.parser')\n",
    "\n",
    "all_rallies = []\n",
    "\n",
    "for tag in soup.find_all('h3'):\n",
    "    if 'Rally' in tag.findNext().text and int(tag.findNext()['href'][-4:])>=2017:\n",
    "        webpage = 'https://factba.se/'+str(tag.findNext()['href'])\n",
    "        response = requests.get(webpage)\n",
    "        subpage = response.text\n",
    "        subsoup = BeautifulSoup(subpage,'lxml')\n",
    "\n",
    "        title = subsoup.find('h1').text\n",
    "        place = title.split('-')[0]\n",
    "        date = title.split('-')[-1].strip().replace(',','')\n",
    "        \n",
    "        transcript_list = []\n",
    "        \n",
    "        for seq in subsoup.find_all('div', class_=\"transcript-text-block\"):\n",
    "            transcript_list.append(seq.findNext().text)\n",
    "        \n",
    "        transcript = ' '.join(transcript_list)\n",
    "        \n",
    "        rally = {'Place':place,'Date':date,'Transcript':transcript}\n",
    "        \n",
    "        all_rallies.append(rally)"
   ]
  },
  {
   "cell_type": "code",
   "execution_count": 47,
   "metadata": {},
   "outputs": [],
   "source": [
    "all_rallies_df = pd.DataFrame(all_rallies)"
   ]
  },
  {
   "cell_type": "code",
   "execution_count": 48,
   "metadata": {},
   "outputs": [
    {
     "data": {
      "text/html": [
       "<div>\n",
       "<style scoped>\n",
       "    .dataframe tbody tr th:only-of-type {\n",
       "        vertical-align: middle;\n",
       "    }\n",
       "\n",
       "    .dataframe tbody tr th {\n",
       "        vertical-align: top;\n",
       "    }\n",
       "\n",
       "    .dataframe thead th {\n",
       "        text-align: right;\n",
       "    }\n",
       "</style>\n",
       "<table border=\"1\" class=\"dataframe\">\n",
       "  <thead>\n",
       "    <tr style=\"text-align: right;\">\n",
       "      <th></th>\n",
       "      <th>Place</th>\n",
       "      <th>Date</th>\n",
       "      <th>Transcript</th>\n",
       "    </tr>\n",
       "  </thead>\n",
       "  <tbody>\n",
       "    <tr>\n",
       "      <th>8</th>\n",
       "      <td>Speech: Donald Trump Holds a Campaign Rally in...</td>\n",
       "      <td>October 16 2020</td>\n",
       "      <td>I love Georgia here, do I love being with you....</td>\n",
       "    </tr>\n",
       "    <tr>\n",
       "      <th>9</th>\n",
       "      <td>Speech: Donald Trump Holds a Campaign Rally in...</td>\n",
       "      <td>October 15 2020</td>\n",
       "      <td>Ah, thank you very much. Thank you let's see i...</td>\n",
       "    </tr>\n",
       "    <tr>\n",
       "      <th>10</th>\n",
       "      <td>Speech: Donald Trump Holds a Campaign Rally in...</td>\n",
       "      <td>October 14 2020</td>\n",
       "      <td>[Audience chants \"USA\"] Thank you. Thank you v...</td>\n",
       "    </tr>\n",
       "    <tr>\n",
       "      <th>11</th>\n",
       "      <td>Speech: Donald Trump Holds a Campaign Rally in...</td>\n",
       "      <td>October 13 2020</td>\n",
       "      <td>Hello, Johnstown. Thank you very much. This is...</td>\n",
       "    </tr>\n",
       "  </tbody>\n",
       "</table>\n",
       "</div>"
      ],
      "text/plain": [
       "                                                Place             Date  \\\n",
       "8   Speech: Donald Trump Holds a Campaign Rally in...  October 16 2020   \n",
       "9   Speech: Donald Trump Holds a Campaign Rally in...  October 15 2020   \n",
       "10  Speech: Donald Trump Holds a Campaign Rally in...  October 14 2020   \n",
       "11  Speech: Donald Trump Holds a Campaign Rally in...  October 13 2020   \n",
       "\n",
       "                                           Transcript  \n",
       "8   I love Georgia here, do I love being with you....  \n",
       "9   Ah, thank you very much. Thank you let's see i...  \n",
       "10  [Audience chants \"USA\"] Thank you. Thank you v...  \n",
       "11  Hello, Johnstown. Thank you very much. This is...  "
      ]
     },
     "execution_count": 48,
     "metadata": {},
     "output_type": "execute_result"
    }
   ],
   "source": [
    "all_rallies_df = all_rallies_df[8:12]\n",
    "all_rallies_df"
   ]
  },
  {
   "cell_type": "code",
   "execution_count": 49,
   "metadata": {},
   "outputs": [],
   "source": [
    "all_rallies_df.to_csv('Trump_Rallies_Test_Set.csv')"
   ]
  },
  {
   "cell_type": "code",
   "execution_count": null,
   "metadata": {},
   "outputs": [],
   "source": []
  }
 ],
 "metadata": {
  "kernelspec": {
   "display_name": "Python 3",
   "language": "python",
   "name": "python3"
  },
  "language_info": {
   "codemirror_mode": {
    "name": "ipython",
    "version": 3
   },
   "file_extension": ".py",
   "mimetype": "text/x-python",
   "name": "python",
   "nbconvert_exporter": "python",
   "pygments_lexer": "ipython3",
   "version": "3.8.3"
  }
 },
 "nbformat": 4,
 "nbformat_minor": 4
}
